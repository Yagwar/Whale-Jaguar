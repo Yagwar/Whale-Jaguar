{
 "cells": [
  {
   "cell_type": "code",
   "execution_count": null,
   "metadata": {},
   "outputs": [],
   "source": []
  },
  {
   "cell_type": "code",
   "execution_count": 1,
   "metadata": {},
   "outputs": [
    {
     "data": {
      "text/html": [
       "<table>\n",
       "<thead><tr><th></th><th scope=col>gender</th><th scope=col>age</th><th scope=col>topic</th><th scope=col>sign</th><th scope=col>grupo_edad</th></tr></thead>\n",
       "<tbody>\n",
       "\t<tr><th scope=row>2059027</th><td>male   </td><td>15     </td><td>Student</td><td>Leo    </td><td>A      </td></tr>\n",
       "\t<tr><th scope=row>3581210</th><td>male             </td><td>33               </td><td>InvestmentBanking</td><td>Aquarius         </td><td>C                </td></tr>\n",
       "\t<tr><th scope=row>3539003</th><td>female</td><td>14    </td><td>indUnk</td><td>Aries </td><td>A     </td></tr>\n",
       "\t<tr><th scope=row>4172416</th><td>female   </td><td>25       </td><td>indUnk   </td><td>Capricorn</td><td>B        </td></tr>\n",
       "\t<tr><th scope=row>3668238</th><td>female </td><td>17     </td><td>Student</td><td>Gemini </td><td>A      </td></tr>\n",
       "\t<tr><th scope=row>4030905</th><td>female </td><td>17     </td><td>Student</td><td>Aries  </td><td>A      </td></tr>\n",
       "</tbody>\n",
       "</table>\n"
      ],
      "text/latex": [
       "\\begin{tabular}{r|lllll}\n",
       "  & gender & age & topic & sign & grupo\\_edad\\\\\n",
       "\\hline\n",
       "\t2059027 & male    & 15      & Student & Leo     & A      \\\\\n",
       "\t3581210 & male              & 33                & InvestmentBanking & Aquarius          & C                \\\\\n",
       "\t3539003 & female & 14     & indUnk & Aries  & A     \\\\\n",
       "\t4172416 & female    & 25        & indUnk    & Capricorn & B        \\\\\n",
       "\t3668238 & female  & 17      & Student & Gemini  & A      \\\\\n",
       "\t4030905 & female  & 17      & Student & Aries   & A      \\\\\n",
       "\\end{tabular}\n"
      ],
      "text/plain": [
       "        gender age             topic      sign grupo_edad\n",
       "2059027   male  15           Student       Leo          A\n",
       "3581210   male  33 InvestmentBanking  Aquarius          C\n",
       "3539003 female  14            indUnk     Aries          A\n",
       "4172416 female  25            indUnk Capricorn          B\n",
       "3668238 female  17           Student    Gemini          A\n",
       "4030905 female  17           Student     Aries          A"
      ]
     },
     "metadata": {},
     "output_type": "display_data"
    }
   ],
   "source": [
    "author_data=read.csv(\"author_data.csv\")\n",
    "rownames(author_data)=author_data$id\n",
    "author_data=author_data[c(\"gender\",\"age\",\"topic\",\"sign\",\"grupo_edad\")]\n",
    "head(author_data)"
   ]
  },
  {
   "cell_type": "code",
   "execution_count": 2,
   "metadata": {},
   "outputs": [
    {
     "data": {
      "text/plain": [
       "               Df Sum Sq Mean Sq F value Pr(>F)    \n",
       "topic          39 279832    7175   146.4 <2e-16 ***\n",
       "Residuals   18941 928307      49                   \n",
       "---\n",
       "Signif. codes:  0 '***' 0.001 '**' 0.01 '*' 0.05 '.' 0.1 ' ' 1"
      ]
     },
     "metadata": {},
     "output_type": "display_data"
    }
   ],
   "source": [
    "auth_aov <- aov(age ~ topic, data = author_data)\n",
    "# Summary of the analysis\n",
    "summary(auth_aov)"
   ]
  },
  {
   "cell_type": "markdown",
   "metadata": {},
   "source": [
    "La prueba de ANOVA indica que si existen diferencias entre los tópicos según las edades."
   ]
  },
  {
   "cell_type": "code",
   "execution_count": 3,
   "metadata": {},
   "outputs": [
    {
     "name": "stderr",
     "output_type": "stream",
     "text": [
      "Warning message:\n",
      "In chisq.test(table(author_data[c(\"topic\", \"grupo_edad\")])): Chi-squared approximation may be incorrect"
     ]
    },
    {
     "data": {
      "text/plain": [
       "\n",
       "\tPearson's Chi-squared test\n",
       "\n",
       "data:  table(author_data[c(\"topic\", \"grupo_edad\")])\n",
       "X-squared = 5994.1, df = 78, p-value < 2.2e-16\n"
      ]
     },
     "metadata": {},
     "output_type": "display_data"
    }
   ],
   "source": [
    "chisq <- chisq.test(table(author_data[c(\"topic\",\"grupo_edad\")]))\n",
    "chisq"
   ]
  },
  {
   "cell_type": "markdown",
   "metadata": {},
   "source": [
    "    p< alpha\n",
    "Se descarta igualdad de las distribuciones\n",
    "\n",
    "El grupo de edad está relacionado con el tópico"
   ]
  },
  {
   "cell_type": "code",
   "execution_count": 4,
   "metadata": {},
   "outputs": [
    {
     "data": {
      "text/plain": [
       "\n",
       "\tPearson's Chi-squared test\n",
       "\n",
       "data:  table(author_data[c(\"topic\", \"gender\")])\n",
       "X-squared = 980.17, df = 39, p-value < 2.2e-16\n"
      ]
     },
     "metadata": {},
     "output_type": "display_data"
    }
   ],
   "source": [
    "chisq2 <- chisq.test(table(author_data[c(\"topic\",\"gender\")]))\n",
    "chisq2"
   ]
  },
  {
   "cell_type": "markdown",
   "metadata": {},
   "source": [
    "    p< alpha\n",
    "Se descarta igualdad de las distribuciones\n",
    "\n",
    "El género está relacionado con el tópico"
   ]
  },
  {
   "cell_type": "code",
   "execution_count": 5,
   "metadata": {},
   "outputs": [
    {
     "data": {
      "text/plain": [
       "\n",
       "\tPearson's Chi-squared test\n",
       "\n",
       "data:  table(author_data[c(\"grupo_edad\", \"gender\")])\n",
       "X-squared = 0.39955, df = 2, p-value = 0.8189\n"
      ]
     },
     "metadata": {},
     "output_type": "display_data"
    }
   ],
   "source": [
    "chisq3 <- chisq.test(table(author_data[c(\"grupo_edad\",\"gender\")]))\n",
    "chisq3"
   ]
  },
  {
   "cell_type": "markdown",
   "metadata": {},
   "source": [
    "    p> alpha\n",
    "Igualdad de las distribuciones\n",
    "El grupo de edad no está relacionado con el tópico"
   ]
  }
 ],
 "metadata": {
  "kernelspec": {
   "display_name": "R",
   "language": "R",
   "name": "ir"
  },
  "language_info": {
   "codemirror_mode": "r",
   "file_extension": ".r",
   "mimetype": "text/x-r-source",
   "name": "R",
   "pygments_lexer": "r",
   "version": "3.3.1"
  }
 },
 "nbformat": 4,
 "nbformat_minor": 2
}
